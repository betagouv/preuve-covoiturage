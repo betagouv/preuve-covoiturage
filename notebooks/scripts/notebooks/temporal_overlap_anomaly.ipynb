{
 "cells": [
  {
   "cell_type": "code",
   "execution_count": null,
   "metadata": {},
   "outputs": [],
   "source": [
    "import os\n",
    "\n",
    "# Input params checks\n",
    "connection_string = os.environ['PG_CONNECTION_STRING']\n",
    "delay = os.environ['DELAY']\n",
    "frame = os.environ['FRAME']\n",
    "update_carpool_status = os.environ['UPDATE_CARPOOL_STATUS'] == \"true\" or False"
   ]
  },
  {
   "cell_type": "code",
   "execution_count": null,
   "metadata": {},
   "outputs": [],
   "source": [
    "import pandas as pd\n",
    "from sqlalchemy import create_engine, text\n",
    "\n",
    "engine = create_engine(connection_string, connect_args={'sslmode':'require'})\n",
    "\n",
    "query = f\"\"\"\n",
    "SELECT cc._id, operator_id, cc.datetime, cc.duration, cc.identity_id, cc.operator_journey_id, start_geo_code, end_geo_code,\n",
    "cc.trip_id,\n",
    "cc.is_driver,\n",
    "ci.identity_key,\n",
    "ci.operator_user_id,\n",
    "CASE \n",
    "      WHEN ci.phone_trunc IS NULL THEN left(ci.phone, -2)\n",
    "      ELSE ci.phone_trunc\n",
    "      END AS phone_trunc,\n",
    "cc.start_position, \n",
    "cc.end_position, gmap_url(cc.start_position, cc.end_position)\n",
    "FROM CARPOOL.CARPOOLS CC\n",
    "JOIN carpool.identities ci on cc.identity_id = ci._id\n",
    "    WHERE CC.DATETIME >= NOW() - '{delay} hours'::interval - '{frame} hours'::interval\n",
    "\tAND CC.DATETIME < NOW() - '{delay} hours'::interval and\n",
    "      cc.is_driver = false \n",
    "\"\"\"\n",
    "\n",
    "with engine.connect() as conn:\n",
    "    df_carpool = pd.read_sql_query(text(query), conn)\n"
   ]
  },
  {
   "cell_type": "code",
   "execution_count": null,
   "metadata": {},
   "outputs": [],
   "source": [
    "\n",
    "from production.computes.carpool_overlaps import CarpoolOverlaps\n",
    "\n",
    "df_carpool['overlap_group'] = 100\n",
    "df_carpool['overlap_duration'] = 0\n",
    "df_carpool['overlap_duration_ratio'] = 1\n",
    "grouped_tmp = df_carpool.groupby(['identity_key'],group_keys=False)\n",
    "\n",
    "df_only_grouped_with_overlap_group_filled = grouped_tmp.apply(lambda df: CarpoolOverlaps.add_overlap_columns(df)).reset_index(drop=True)"
   ]
  },
  {
   "cell_type": "code",
   "execution_count": null,
   "metadata": {},
   "outputs": [],
   "source": [
    "overlap_duration_high_mask = df_only_grouped_with_overlap_group_filled['overlap_duration_ratio'] > 0.7\n",
    "\n",
    "df_high_overlap = df_only_grouped_with_overlap_group_filled[overlap_duration_high_mask]"
   ]
  },
  {
   "cell_type": "code",
   "execution_count": null,
   "metadata": {},
   "outputs": [],
   "source": [
    "grouped_tmp = df_high_overlap.groupby(['identity_key', 'overlap_group', 'operator_id'], group_keys=False)\n",
    "df_final_result = grouped_tmp.filter(lambda x:  x['overlap_group'].count() > 1)"
   ]
  },
  {
   "cell_type": "code",
   "execution_count": null,
   "metadata": {},
   "outputs": [],
   "source": [
    "grouped_tmp = df_final_result.groupby(['identity_key', 'overlap_group', 'operator_id'], group_keys=False)\n",
    "df_row_to_keep = grouped_tmp.nth(0).reset_index(drop=False)\n",
    "\n",
    "df_row_to_flag = df_final_result[~df_final_result._id.isin(df_row_to_keep['_id'])]\n",
    "\n",
    "def add_conflicting_carpool_id(row): \n",
    "    # recherche de la row carpool flaguée à partir du carpool_id\n",
    "    df_row_to_flag_mask = df_row_to_flag['_id'] == row['carpool_id']\n",
    "    df_carpool_row_flaged = df_row_to_flag[df_row_to_flag_mask]\n",
    "    conflicting_carpool_mask = (df_row_to_keep['identity_key'] == df_carpool_row_flaged['identity_key'].iloc[0]) & (df_row_to_keep['overlap_group'] == df_carpool_row_flaged['overlap_group'].iloc[0])\n",
    "    row['conflicting_carpool_id'] = df_row_to_keep[conflicting_carpool_mask].iloc[0]._id\n",
    "    row['conflicting_operator_journey_id'] = df_row_to_keep[conflicting_carpool_mask].iloc[0].operator_journey_id\n",
    "    return row\n",
    "\n",
    "df_labels = pd.DataFrame(df_row_to_flag[['_id', 'overlap_duration_ratio']])\n",
    "df_labels.columns = ['carpool_id', 'overlap_duration_ratio']\n",
    "df_labels = df_labels.assign(label='temporal_overlap_anomaly')\n",
    "df_labels = df_labels.apply(lambda x: add_conflicting_carpool_id(x), axis=1)"
   ]
  },
  {
   "cell_type": "code",
   "execution_count": null,
   "metadata": {},
   "outputs": [],
   "source": [
    "import sqlalchemy as sa\n",
    "\n",
    "if update_carpool_status is True:\n",
    "\n",
    "    metadata = sa.MetaData(schema='carpool')\n",
    "    metadata.reflect(bind=engine)\n",
    "\n",
    "    table = metadata.tables['carpool.carpools']\n",
    "    \n",
    "    where_clause = table.c._id.in_(df_labels['carpool_id'].to_list())\n",
    "\n",
    "    update_stmt = sa.update(table).where(where_clause).values(status='anomaly_error')\n",
    "\n",
    "    with engine.connect() as conn:\n",
    "        result = conn.execute(update_stmt)\n",
    "        conn.commit()"
   ]
  },
  {
   "cell_type": "code",
   "execution_count": null,
   "metadata": {},
   "outputs": [],
   "source": [
    "from sqlalchemy.dialects.postgresql import insert\n",
    "\n",
    "def insert_or_do_nothing_on_conflict(table, conn, keys, data_iter):\n",
    "    insert_stmt = insert(table.table).values(list(data_iter))\n",
    "    on_duplicate_key_stmt = insert_stmt.on_conflict_do_nothing(index_elements=['carpool_id', 'label'])\n",
    "    conn.execute(on_duplicate_key_stmt)\n",
    "\n",
    "df_labels.to_sql(\n",
    "    name=\"labels\",\n",
    "    schema=\"anomaly\",\n",
    "    con=engine,\n",
    "    if_exists=\"append\",\n",
    "    index=False,\n",
    "    method=insert_or_do_nothing_on_conflict\n",
    ")"
   ]
  }
 ],
 "metadata": {
  "kernelspec": {
   "display_name": ".venv",
   "language": "python",
   "name": "python3"
  },
  "language_info": {
   "codemirror_mode": {
    "name": "ipython",
    "version": 3
   },
   "file_extension": ".py",
   "mimetype": "text/x-python",
   "name": "python",
   "nbconvert_exporter": "python",
   "pygments_lexer": "ipython3",
   "version": "3.10.12"
  }
 },
 "nbformat": 4,
 "nbformat_minor": 2
}
