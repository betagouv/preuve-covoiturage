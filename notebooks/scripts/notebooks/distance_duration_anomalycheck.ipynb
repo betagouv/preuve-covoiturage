{
 "cells": [
  {
   "cell_type": "code",
   "execution_count": null,
   "metadata": {},
   "outputs": [],
   "source": [
    "import os\n",
    "\n",
    "# Input params\n",
    "connection_string = os.environ['PG_CONNECTION_STRING']\n",
    "delay = os.environ['DELAY']\n",
    "frame = os.environ['FRAME']\n",
    "update_carpool_status = os.environ['UPDATE_CARPOOL_STATUS'] == \"true\" or False\n",
    "osrm_url = os.environ['OSRM_URL']"
   ]
  },
  {
   "cell_type": "code",
   "execution_count": null,
   "metadata": {},
   "outputs": [],
   "source": [
    "import pandas as pd\n",
    "from sqlalchemy import create_engine, text\n",
    "\n",
    "engine = create_engine(connection_string, connect_args={'sslmode':'require'})\n",
    "\n",
    "query = f\"\"\"\n",
    "SELECT cc._id, operator_id, cc.datetime, cc.duration, cc.distance, cc.identity_id, cc.operator_journey_id, start_geo_code, end_geo_code, \n",
    "cc.trip_id,\n",
    "cc.is_driver,\n",
    "cc.operator_class,\n",
    "ci.operator_user_id,\n",
    "CASE \n",
    "      WHEN ci.phone_trunc IS NULL THEN left(ci.phone, -2)\n",
    "      ELSE ci.phone_trunc\n",
    "      END AS phone_trunc,\n",
    "ST_X(ST_AsText(cc.start_position)) start_x,\n",
    "ST_Y(ST_AsText(cc.start_position)) start_y, \n",
    "ST_X(ST_AsText(cc.end_position)) end_x,\n",
    "ST_Y(ST_AsText(cc.end_position)) end_y, \n",
    "gmap_url(cc.start_position, cc.end_position)\n",
    "FROM CARPOOL.CARPOOLS CC\n",
    "JOIN carpool.identities ci on cc.identity_id = ci._id\n",
    " join geo.perimeters gps on cc.start_geo_code = gps.arr and gps.year = 2023 -- and gps.aom = '287500078'\n",
    " join geo.perimeters gpe on cc.end_geo_code = gpe.arr and gpe.year = 2023 -- and gpe.aom = '287500078'\n",
    "JOIN policy.incentives pi on pi.carpool_id = cc._id -- and pi.policy_id = 459 \n",
    "WHERE CC.DATETIME >= NOW() - '{delay} hours'::interval - '{frame} hours'::interval\n",
    "\tAND CC.DATETIME < NOW() - '{delay} hours'::interval and\n",
    "      cc.is_driver = true \n",
    "\"\"\"\n",
    "\n",
    "with engine.connect() as conn:\n",
    "    df_carpool = pd.read_sql_query(text(query), conn)\n"
   ]
  },
  {
   "cell_type": "code",
   "execution_count": null,
   "metadata": {},
   "outputs": [],
   "source": [
    "\n",
    "import requests\n",
    "import logging\n",
    "\n",
    "def get_osrm_data(x):\n",
    "  try:\n",
    "    response =  requests.get(f\"{osrm_url}/route/v1/car/{x.start_x},{x.start_y};{x.end_x},{x.end_y}\")\n",
    "    body = response.json()\n",
    "    x['osrm_duration'] = body['routes'][0]['duration']\n",
    "    x['osrm_distance'] = body['routes'][0]['distance']\n",
    "  except requests.RequestException as e:\n",
    "    logging.warn('Error on osrm call ' + e)\n",
    "    # Handle exception, e.g., log error and continue, or re-raise with additional context\n",
    "    pass\n",
    "  return x\n",
    "\n",
    "df_carpool = df_carpool.apply(get_osrm_data, axis = 1)\n",
    "# df_carpool = df_carpool.assign(duration_delta=lambda x: x.duration * 100 / x.osrm_duration)\n",
    "# df_carpool = df_carpool.assign(distance_delta=lambda x: x.distance * 100 / x.osrm_distance)\n"
   ]
  },
  {
   "cell_type": "code",
   "execution_count": null,
   "metadata": {},
   "outputs": [],
   "source": [
    "operator_class_c_mask = df_carpool.operator_class == 'C'\n",
    "df_only_class_c_trip = df_carpool[operator_class_c_mask]"
   ]
  },
  {
   "cell_type": "markdown",
   "metadata": {},
   "source": [
    "Sur les trajets de class C\n",
    "\n",
    "https://doc.covoiturage.beta.gouv.fr/nos-services/le-registre-de-preuve-de-covoiturage/quest-ce-que-cest/classes-de-preuve-and-identite/classes-a-b-c\n",
    "\n",
    "# Relever les trajets : \n",
    "- Qui ont une distance estimée par osrm ou transmises inférieure à 300m. \n",
    "    * Le trajet est beaucoup trop court en termes de distance\n",
    "- Qui ont une durée estimée par osrm ou transmises inférieures à 1 minute.\n",
    "    * Le trajet est beaucoup trop court en termes de durée\n",
    "- Qui ont une durée estimée par osrm supérieure à 2.5 fois le temps transmis. Exemple: temps estimé 25 minutes pour temps transmis 10 minutes\n",
    "    * Le temps de trajet est trop faible par rapport au plus court chemin determiné par OSRM, le trajet est considéré comme physiquement impossible\n",
    "- Qui ont une distance estimée par osrm supérieure à 2.5 fois la distance transmise. Exemple: distance 10 km sur une distance estimée 25 km\n",
    "    * La distance du trajet est trop faible par rapport au plus court chemin determiné par OSRM, le trajet est considéré comme physiquement impossible\n",
    "- Qui ont une distance transmise supérieur à 4 fois la distance estimée osrm. Exemple: 10 km estimé pour 40 km transmis\n",
    "    * La distance transmise est très largement supérieure à l'estimation. Le seuil est élevé pour prendre en compte d'éventuels détours par rapport au plus court chemin\n",
    "- Qui ont une durée transmise supérieure à 7 fois la durée estimée. Exemple : 1h estimé vs 7h transmis\n",
    "    * La durée transmise est très largement supérieure par rapport à l'estimation. Le seuil est élevé pour prendre en compte d'éventuels embouteillage"
   ]
  },
  {
   "cell_type": "code",
   "execution_count": null,
   "metadata": {},
   "outputs": [],
   "source": [
    "less_than_300_meters_mask = (df_only_class_c_trip.distance < 300) | (df_only_class_c_trip.osrm_distance < 300)\n",
    "less_than_1_minutes_mask = (df_only_class_c_trip.duration < 60) | (df_only_class_c_trip.osrm_duration < 60)\n",
    "estimate_vs_computed_percent_more_duration_mask = (df_only_class_c_trip.osrm_duration > df_only_class_c_trip.duration * 2.5) | (df_only_class_c_trip.osrm_duration * 7 < df_only_class_c_trip.duration)\n",
    "estimate_vs_computed_percent_more_distance_mask = (df_only_class_c_trip.osrm_distance > df_only_class_c_trip.distance * 2.5) | (df_only_class_c_trip.osrm_distance * 4 < df_only_class_c_trip.distance)\n",
    "\n",
    "df_result = df_only_class_c_trip[less_than_300_meters_mask | less_than_1_minutes_mask | estimate_vs_computed_percent_more_duration_mask | estimate_vs_computed_percent_more_distance_mask]\n"
   ]
  },
  {
   "cell_type": "code",
   "execution_count": null,
   "metadata": {},
   "outputs": [],
   "source": [
    "df_labels = df_result[['_id']]\n",
    "df_labels = df_labels.assign(label='distance_duration_anomaly')\n",
    "df_labels.rename(columns={\"_id\": \"carpool_id\"})"
   ]
  },
  {
   "cell_type": "code",
   "execution_count": null,
   "metadata": {},
   "outputs": [],
   "source": [
    "import sqlalchemy as sa\n",
    "\n",
    "if update_carpool_status is True:\n",
    "\n",
    "    metadata = sa.MetaData(schema='carpool')\n",
    "    metadata.reflect(bind=engine)\n",
    "\n",
    "    table = metadata.tables['carpool.carpools']\n",
    "    \n",
    "    where_clause = table.c._id.in_(df_labels['carpool_id'].to_list())\n",
    "\n",
    "    update_stmt = sa.update(table).where(where_clause).values(status='anomaly_error')\n",
    "\n",
    "    with engine.connect() as conn:\n",
    "        result = conn.execute(update_stmt)\n",
    "        conn.commit()"
   ]
  },
  {
   "cell_type": "code",
   "execution_count": null,
   "metadata": {},
   "outputs": [],
   "source": [
    "from sqlalchemy.dialects.postgresql import insert\n",
    "\n",
    "def insert_or_do_nothing_on_conflict(table, conn, keys, data_iter):\n",
    "    insert_stmt = insert(table.table).values(list(data_iter))\n",
    "    on_duplicate_key_stmt = insert_stmt.on_conflict_do_nothing(index_elements=['carpool_id', 'label'])\n",
    "    conn.execute(on_duplicate_key_stmt)\n",
    "\n",
    "df_labels.to_sql(\n",
    "    name=\"labels\",\n",
    "    schema=\"anomaly\",\n",
    "    con=engine,\n",
    "    if_exists=\"append\",\n",
    "    index=False,\n",
    "    method=insert_or_do_nothing_on_conflict\n",
    ")"
   ]
  },
  {
   "cell_type": "code",
   "execution_count": null,
   "metadata": {},
   "outputs": [],
   "source": [
    "# df_result_light = df_result[['_id','operator_id','gmap_url', 'distance', 'duration', 'osrm_distance', 'osrm_duration', 'distance_delta', 'duration_delta']]\n",
    "# df_result_light['duration'] = df_result_light['duration']/60\n",
    "# df_result_light['osrm_duration'] = df_result_light['osrm_duration']/60 \n",
    "# df_result_light['duration_delta'] = df_result_light['duration_delta']/60 "
   ]
  },
  {
   "cell_type": "markdown",
   "metadata": {},
   "source": [
    "Regarder le restes des trajets pour voir si il n'y a pas d'autre anomalie possible"
   ]
  },
  {
   "cell_type": "code",
   "execution_count": null,
   "metadata": {},
   "outputs": [],
   "source": [
    "# df_row_check = df_only_class_c_trip[~df_only_class_c_trip._id.isin(df_result['_id'])]\n",
    "\n",
    "# df_row_check = df_row_check[['_id','operator_id','gmap_url', 'distance', 'duration', 'osrm_distance', 'osrm_duration', 'distance_delta', 'duration_delta']]\n",
    "# df_row_check['duration'] = df_row_check['duration']/60\n",
    "# df_row_check['osrm_duration'] = df_row_check['osrm_duration']/60 \n",
    "# df_row_check['duration_delta'] = df_row_check['duration_delta']/60 "
   ]
  }
 ],
 "metadata": {
  "kernelspec": {
   "display_name": ".venv",
   "language": "python",
   "name": "python3"
  },
  "language_info": {
   "codemirror_mode": {
    "name": "ipython",
    "version": 3
   },
   "file_extension": ".py",
   "mimetype": "text/x-python",
   "name": "python",
   "nbconvert_exporter": "python",
   "pygments_lexer": "ipython3",
   "version": "3.10.12"
  }
 },
 "nbformat": 4,
 "nbformat_minor": 2
}
