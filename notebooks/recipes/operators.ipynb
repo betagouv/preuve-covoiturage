{
 "cells": [
  {
   "cell_type": "markdown",
   "metadata": {},
   "source": [
    "# Operators\n",
    "\n",
    "Liste des opérateurs de la base"
   ]
  },
  {
   "cell_type": "code",
   "execution_count": null,
   "metadata": {},
   "outputs": [],
   "source": [
    "import os\n",
    "import sys\n",
    "import numpy as np\n",
    "import pandas as pd\n",
    "import networkx as nx\n",
    "import datetime\n",
    "from sqlalchemy import create_engine, text\n",
    "from dotenv import load_dotenv\n",
    "\n",
    "# Chargement des variables du .env\n",
    "load_dotenv()\n",
    "module_path = os.path.abspath(os.path.join('..'))\n",
    "if module_path not in sys.path: sys.path.append(module_path)\n",
    "sys.path.append('/notebooks/recipes')\n",
    "\n",
    "# fallback to .env connection string\n",
    "try: connection_string\n",
    "except NameError: connection_string = os.environ['PG_CONNECTION_STRING']\n",
    "\n",
    "# connect to DB\n",
    "engine = create_engine(connection_string, connect_args={'sslmode':'require'})\n",
    "with engine.connect() as conn: df_result = pd.read_sql_query(text(\"SELECT current_timestamp AT TIME ZONE 'Europe/Paris'\"), conn)\n",
    "print('Notebook initialised at: ' + str(df_result.values[0][0]))\n"
   ]
  },
  {
   "cell_type": "code",
   "execution_count": null,
   "metadata": {},
   "outputs": [],
   "source": [
    "from itables import show\n",
    "\n",
    "query = f\"\"\"\n",
    "  SELECT _id, upper(uuid::text) as UUID, name, legal_name, siret, cgu_accepted_at, created_at\n",
    "  FROM operator.operators\n",
    "  WHERE deleted_at IS NULL\n",
    "  ORDER BY name\n",
    "\"\"\"\n",
    "\n",
    "with engine.connect() as conn: df_result = pd.read_sql_query(text(query), conn)\n",
    "\n",
    "df_result['idx'] = df_result.index\n",
    "show(df_result)\n"
   ]
  }
 ],
 "metadata": {
  "kernelspec": {
   "display_name": ".venv",
   "language": "python",
   "name": "python3"
  },
  "language_info": {
   "codemirror_mode": {
    "name": "ipython",
    "version": 3
   },
   "file_extension": ".py",
   "mimetype": "text/x-python",
   "name": "python",
   "nbconvert_exporter": "python",
   "pygments_lexer": "ipython3",
   "version": "3.10.12"
  }
 },
 "nbformat": 4,
 "nbformat_minor": 2
}
