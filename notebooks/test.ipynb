{
 "cells": [
  {
   "cell_type": "code",
   "execution_count": null,
   "metadata": {},
   "outputs": [],
   "source": [
    "mask = df_new.unique_operator_id_count > 2\n",
    "\n",
    "df_new[mask] \n",
    "\n",
    "df_count = phone_trunc_grouped_filtered.groupby(['phone_trunc']).count()\n",
    "\n",
    "phone_trunc_mask = df_count.operator_id > 2\n",
    "\n",
    "df_count[phone_trunc_mask]\n"
   ]
  },
  {
   "cell_type": "code",
   "execution_count": null,
   "metadata": {},
   "outputs": [],
   "source": [
    "# view data\n",
    "\n",
    "# reset les indexes après un group by -> Pas besoin de multi indexes et bug si filtre avec multi\n",
    "df_carpool_pt_index = phone_trunc_grouped_filtered.set_index(['phone_trunc'])\n",
    "df_linear_view = df_carpool_pt_index.sort_index()[['_id', 'is_driver', 'datetime','duration', 'operator_id', 'rpc_uuid']]\n",
    "\n",
    "df_linear_view"
   ]
  },
  {
   "cell_type": "code",
   "execution_count": null,
   "metadata": {},
   "outputs": [],
   "source": [
    "from datetime import timedelta\n",
    "\n",
    "import pandas as pd\n",
    "\n",
    "def has_overalp(row1, row2):\n",
    "  start1 = pd.to_datetime(row1['datetime'])\n",
    "  duration1 = pd.to_timedelta(row1['duration'], unit='s')\n",
    "  \n",
    "  start2 = row2['datetime']\n",
    "  duration2 = pd.to_timedelta(row2['duration'], unit='s')\n",
    "\n",
    "  end1 = start1 + duration1\n",
    "  end2 = start2 + duration2\n",
    "\n",
    "  overlap_start = max(start1, start2)\n",
    "  overlap_end = min(end1, end2)\n",
    "  return max(0, (overlap_end - overlap_start).total_seconds())\n",
    "\n",
    "\n",
    "def tag_overlap_rows_in_group(df):\n",
    "  for i in range(len(df)):\n",
    "    no_overlap_count = 0\n",
    "    for j in range(len(df)):\n",
    "      overlap_duration = has_overalp(df.iloc[i], df.iloc[j])\n",
    "      if overlap_duration == 0:\n",
    "        no_overlap_count =+1\n",
    "    if no_overlap_count == (len(df) -1):\n",
    "      df.loc[df.index[i], 'has_overlap'] = False\n",
    "    else:\n",
    "      df.loc[df.index[i], 'has_overlap'] = True\n",
    "  return df\n",
    "\n",
    "df_phone_trunc_with_overlap = phone_trunc_grouped_filtered.groupby(['phone_trunc']).apply(lambda df: tag_overlap_rows_in_group(df))\n",
    "remove_overlap_mask = df_phone_trunc_with_overlap.has_overlap == True\n",
    "df_only_grouped_with_overlap = df_phone_trunc_with_overlap[remove_overlap_mask]"
   ]
  }
 ],
 "metadata": {
  "language_info": {
   "name": "python"
  },
  "orig_nbformat": 4
 },
 "nbformat": 4,
 "nbformat_minor": 2
}
