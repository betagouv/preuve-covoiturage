{
 "cells": [
  {
   "cell_type": "code",
   "execution_count": null,
   "id": "80931af5-ac02-432f-b3d9-f407556e83a2",
   "metadata": {},
   "outputs": [],
   "source": [
    "import os\n",
    "from pathlib import Path\n",
    "\n",
    "import plotly.express as px\n",
    "import plotly.graph_objects as go\n",
    "import polars as pl\n",
    "from sqlalchemy import create_engine"
   ]
  },
  {
   "cell_type": "markdown",
   "id": "7de1b380-f1de-49c3-859d-0bcca4c11d9c",
   "metadata": {},
   "source": [
    "# DB"
   ]
  },
  {
   "cell_type": "code",
   "execution_count": null,
   "id": "5cdcb3ac-2474-4bec-a549-5cecef47c950",
   "metadata": {},
   "outputs": [],
   "source": [
    "DATABASE_URL = os.environ[\"DB_URL_RPC\"]"
   ]
  },
  {
   "cell_type": "code",
   "execution_count": null,
   "id": "e513485e-4c67-46dc-aecf-ae100ed3b902",
   "metadata": {},
   "outputs": [],
   "source": [
    "OUTPUT_PATH = Path(\"outputs\")\n",
    "OUTPUT_PATH.absolute()"
   ]
  },
  {
   "cell_type": "code",
   "execution_count": null,
   "id": "e6939702-3c64-431c-82f3-e7628b028753",
   "metadata": {},
   "outputs": [],
   "source": [
    "db_engine = create_engine(DATABASE_URL)"
   ]
  },
  {
   "cell_type": "markdown",
   "id": "d0f45db4-6063-49a7-b89e-1f60c0cf678a",
   "metadata": {},
   "source": [
    "# Création de la cohorte"
   ]
  },
  {
   "cell_type": "markdown",
   "id": "c44ff78e-5106-4290-a58c-679041c6a73e",
   "metadata": {},
   "source": [
    "```sql\n",
    "create table luis.drivers_incentived_cohort as (\n",
    "with first_trips as (\n",
    "select \n",
    "\t\tc.driver_operator_user_id,\n",
    "\t\tarray_agg(distinct c.driver_identity_key) as identity_keys, \n",
    "\t\tarray_agg(distinct c.operator_id) as operators_ids,\n",
    "\t\tmin(c.start_datetime) as first_trip_datetime\n",
    "from\n",
    "\tcarpool_v2.carpools c\n",
    "where\n",
    "\tc.start_datetime between '2023-01-01' and now() - interval '3 months'\n",
    "group by\n",
    "\t1\n",
    "having\n",
    "\tmin(c.start_datetime) between '2024-03-01' and now() - interval '3 months'\n",
    "),\n",
    "incentived_drivers as (\n",
    "select \n",
    "\t\tc.driver_operator_user_id,\n",
    "\t\tarray_agg(distinct oi.siret) as incentives_sirets,\n",
    "\t\tarray_agg(distinct co.company_naf_code) as incentives_naf_codes\n",
    "from\n",
    "\tcarpool_v2.carpools c\n",
    "inner join carpool_v2.operator_incentives oi on\n",
    "\tc._id = oi.carpool_id\n",
    "left join company.companies co on\n",
    "\toi.siret = co.siret\n",
    "where\n",
    "\tc.start_datetime between '2024-03-01' and now() - interval '3 months'\n",
    "group by\n",
    "\t1\n",
    "),\n",
    "cee_drivers as (\n",
    "select\n",
    "\t \tdriver_operator_user_id,\n",
    "\t \tmin(c.start_datetime) as cee_trip_datetime\n",
    "from\n",
    "\tcarpool_v2.carpools c\n",
    "inner join cee.cee_applications ca on\n",
    "\tc.operator_journey_id = ca.operator_journey_id\n",
    "\tand ca.journey_type = 'short'\n",
    "\tand not ca.is_specific\n",
    "where\n",
    "\tc.start_datetime between '2024-03-01' and now() - interval '3 months'\n",
    "group by\n",
    "\t1\n",
    ")\n",
    "select \n",
    "\tft.*,\n",
    "\tid.incentives_sirets,\n",
    "\tid.incentives_naf_codes,\n",
    "\tcd.cee_trip_datetime\n",
    "from\n",
    "\tfirst_trips ft\n",
    "left join incentived_drivers id on\n",
    "\tft.driver_operator_user_id = id.driver_operator_user_id\n",
    "left join cee_drivers cd on\n",
    "\tcd.driver_operator_user_id = ft.driver_operator_user_id)\n",
    "```"
   ]
  },
  {
   "cell_type": "markdown",
   "id": "41245df7-15c0-41f5-8670-ef783a496369",
   "metadata": {},
   "source": [
    "# Analyses"
   ]
  },
  {
   "cell_type": "code",
   "execution_count": null,
   "id": "85f253f3-407f-42f8-a3bb-1b55ee43f710",
   "metadata": {},
   "outputs": [],
   "source": [
    "is_company_incentive_expr = (pl.col(\"incentives_naf_codes\").map_elements(\n",
    "            lambda x: all(e is None for e in x), return_dtype=pl.Boolean\n",
    "        ))\n",
    "cohorte_cat_expr = (\n",
    "    pl.when(\n",
    "        pl.col(\"cee_trip_datetime\").is_not_null()\n",
    "        & is_company_incentive_expr\n",
    "    )\n",
    "    .then(pl.lit(\"CEE avec incitations Entreprise\"))\n",
    "    .when(\n",
    "        pl.col(\"cee_trip_datetime\").is_not_null()\n",
    "        & ~is_company_incentive_expr\n",
    "    )\n",
    "    .then(pl.lit(\"CEE avec incitations Collectivité OU Opérateur\"))\n",
    "    .when(\n",
    "        pl.col(\"cee_trip_datetime\").is_null()\n",
    "        & is_company_incentive_expr\n",
    "    )\n",
    "    .then(pl.lit(\"Incitations Entreprise\"))\n",
    "    .when(\n",
    "        pl.col(\"cee_trip_datetime\").is_null()\n",
    "        & ~is_company_incentive_expr\n",
    "    )\n",
    "    .then(pl.lit(\"Incitations Collectivité OU Opérateurs\"))\n",
    "    .alias(\"cohorte_cat\")\n",
    ")"
   ]
  },
  {
   "cell_type": "markdown",
   "id": "bed3a13e-4fc1-4ebe-8a0e-782bfeeacf46",
   "metadata": {
    "execution": {
     "iopub.execute_input": "2024-10-16T13:49:24.187431Z",
     "iopub.status.busy": "2024-10-16T13:49:24.185679Z",
     "iopub.status.idle": "2024-10-16T13:49:24.197168Z",
     "shell.execute_reply": "2024-10-16T13:49:24.196094Z",
     "shell.execute_reply.started": "2024-10-16T13:49:24.187330Z"
    }
   },
   "source": [
    "## Nombre de trajets"
   ]
  },
  {
   "cell_type": "code",
   "execution_count": null,
   "id": "2dfa17aa-c7ca-468b-8d87-e088e65c116c",
   "metadata": {},
   "outputs": [],
   "source": [
    "df_trips_by_driver = pl.read_database(\n",
    "    \"\"\"\n",
    "select \n",
    "\tdic.driver_operator_user_id,\n",
    "    min(dic.incentives_sirets) as incentives_sirets,\n",
    "    min(dic.incentives_naf_codes) as incentives_naf_codes,\n",
    "    min(dic.cee_trip_datetime) as cee_trip_datetime,\n",
    "\tcount(distinct coalesce(operator_trip_id,operator_journey_id)) as num_trips\n",
    "from \n",
    "\tluis.drivers_incentived_cohort dic\n",
    "left join carpool_v2.carpools c on\n",
    "\tdic.driver_operator_user_id = c.driver_operator_user_id\n",
    "\tand (c.start_datetime between dic.first_trip_datetime and dic.first_trip_datetime + interval '3 month')\n",
    "group by\n",
    "\t1\n",
    "    \"\"\",\n",
    "    connection=db_engine,\n",
    ")"
   ]
  },
  {
   "cell_type": "code",
   "execution_count": null,
   "id": "dc435129-d681-4c95-8483-7e75c33f8b0a",
   "metadata": {},
   "outputs": [],
   "source": [
    "df_trips_by_driver = df_trips_by_driver.with_columns(cohorte_cat_expr)"
   ]
  },
  {
   "cell_type": "code",
   "execution_count": null,
   "id": "04841245-949a-4d75-a0df-8b08d31e1712",
   "metadata": {},
   "outputs": [],
   "source": [
    "df_trips_by_driver[\"cohorte_cat\"].value_counts()"
   ]
  },
  {
   "cell_type": "code",
   "execution_count": null,
   "id": "3c62e22d-9fea-49a2-9870-a4c844bbc356",
   "metadata": {},
   "outputs": [],
   "source": [
    "df_trips_by_driver.group_by(\"cohorte_cat\").agg(pl.col(\"num_trips\").mean())"
   ]
  },
  {
   "cell_type": "markdown",
   "id": "709cf46b-a22d-45d2-bed4-19ba7f133957",
   "metadata": {},
   "source": [
    "# Distance moyenne"
   ]
  },
  {
   "cell_type": "code",
   "execution_count": null,
   "id": "f666e6e9-4489-4835-a752-d18cfb6c9ea7",
   "metadata": {},
   "outputs": [],
   "source": [
    "df_distance_by_driver = pl.read_database(\n",
    "    \"\"\"\n",
    "select \n",
    "\tdic.driver_operator_user_id,\n",
    "    min(dic.incentives_sirets) as incentives_sirets,\n",
    "    min(dic.incentives_naf_codes) as incentives_naf_codes,\n",
    "    min(dic.cee_trip_datetime) as cee_trip_datetime,\n",
    "\tavg(c.distance)::float as distance\n",
    "from \n",
    "\tluis.drivers_incentived_cohort dic\n",
    "left join carpool_v2.carpools c on\n",
    "\tdic.driver_operator_user_id = c.driver_operator_user_id\n",
    "\tand (c.start_datetime between dic.first_trip_datetime and dic.first_trip_datetime + interval '3 month')\n",
    "group by\n",
    "\t1\n",
    "    \"\"\",\n",
    "    connection=db_engine,\n",
    ")"
   ]
  },
  {
   "cell_type": "code",
   "execution_count": null,
   "id": "23846431-9376-4803-baf1-e0b9a3fce254",
   "metadata": {},
   "outputs": [],
   "source": [
    "df_distance_by_driver"
   ]
  },
  {
   "cell_type": "code",
   "execution_count": null,
   "id": "1a2221eb-e573-49d1-819d-a53a04ddf6b7",
   "metadata": {},
   "outputs": [],
   "source": [
    "df_distance_by_driver = df_distance_by_driver.with_columns(\n",
    "    cohorte_cat_expr\n",
    ")"
   ]
  },
  {
   "cell_type": "code",
   "execution_count": null,
   "id": "c0b9cdd9-7bbd-4b30-9ae7-727ccd38c07a",
   "metadata": {},
   "outputs": [],
   "source": [
    "df_distance_by_driver.group_by(\"cohorte_cat\").agg((pl.col(\"distance\")/1000).mean().round(2))"
   ]
  },
  {
   "cell_type": "markdown",
   "id": "8dd0a46c-07cd-451f-aa6d-145f2b031754",
   "metadata": {},
   "source": [
    "# Passagers"
   ]
  },
  {
   "cell_type": "code",
   "execution_count": null,
   "id": "ac46d13b-20f5-4fa3-90b4-753cd9c19c40",
   "metadata": {},
   "outputs": [],
   "source": [
    "df_passengers_by_driver = pl.read_database(\n",
    "    \"\"\"\n",
    "with trips as (\n",
    "select \n",
    "\tdic.driver_operator_user_id,\n",
    "    coalesce(c.operator_trip_id,c.operator_journey_id) as trip_id,\n",
    "    min(dic.incentives_sirets) as incentives_sirets,\n",
    "    min(dic.incentives_naf_codes) as incentives_naf_codes,\n",
    "    min(dic.cee_trip_datetime) as cee_trip_datetime,\n",
    "    coalesce(c.operator_trip_id,operator_journey_id) as trip_id,\n",
    "\tsum(c.passenger_seats) as num_passagers\n",
    "from \n",
    "\tluis.drivers_incentived_cohort dic\n",
    "left join carpool_v2.carpools c on\n",
    "\tdic.driver_operator_user_id = c.driver_operator_user_id\n",
    "\tand (c.start_datetime between dic.first_trip_datetime and dic.first_trip_datetime + interval '3 month')\n",
    "group by\n",
    "\t1,2)\n",
    "select \n",
    "    driver_operator_user_id,\n",
    "    min(incentives_sirets) as incentives_sirets,\n",
    "    min(incentives_naf_codes) as incentives_naf_codes,\n",
    "    min(cee_trip_datetime) as cee_trip_datetime,\n",
    "    avg(num_passagers)::float as num_passagers\n",
    "from trips\n",
    "group by 1\n",
    "    \"\"\",\n",
    "    connection=db_engine,\n",
    ")\n",
    "df_passengers_by_driver"
   ]
  },
  {
   "cell_type": "code",
   "execution_count": null,
   "id": "46b8ffc4-3147-4bc5-a815-b6c8865ed961",
   "metadata": {},
   "outputs": [],
   "source": [
    "df_passengers_by_driver = df_passengers_by_driver.with_columns(\n",
    "    cohorte_cat_expr\n",
    ")"
   ]
  },
  {
   "cell_type": "code",
   "execution_count": null,
   "id": "afe0d8c0-9c1d-4c34-b98f-7e22cd2fd2f9",
   "metadata": {},
   "outputs": [],
   "source": [
    "df_passengers_by_driver.group_by(\"cohorte_cat\").agg((pl.col(\"num_passagers\")).mean().round(2))"
   ]
  },
  {
   "cell_type": "markdown",
   "id": "ea7c8d30-60c4-4245-a6ef-ab8cf5f33108",
   "metadata": {},
   "source": [
    "# Churn"
   ]
  },
  {
   "cell_type": "code",
   "execution_count": null,
   "id": "7c1235ff-272a-40f0-9994-c24c518f81a9",
   "metadata": {},
   "outputs": [],
   "source": [
    "df_churn_by_driver = pl.read_database(\"\"\"\n",
    "with \"template\" as (\n",
    "select \n",
    "\t*,\n",
    "\tgenerate_series(date_trunc('week',dic.first_trip_datetime at time zone 'Europe/Paris'),\n",
    "\tdate_trunc('week',dic.first_trip_datetime at time zone 'Europe/Paris' + interval '11 weeks'),\n",
    "\tinterval '1 weeks') as semaine\n",
    "from\n",
    "\tluis.drivers_incentived_cohort dic\n",
    "  ),\n",
    "\n",
    "trips as (\n",
    "select\n",
    "\tdic.driver_operator_user_id,\n",
    "\tdate_trunc('week',\n",
    "\tc.start_datetime at time zone 'Europe/Paris') as semaine\n",
    "from\n",
    "\tcarpool_v2.carpools c\n",
    "inner JOIN luis.drivers_incentived_cohort dic on\n",
    "\tdic.driver_operator_user_id = c.driver_operator_user_id\n",
    "\tand (c.start_datetime between dic.first_trip_datetime and dic.first_trip_datetime + interval '3 month')\n",
    "group by\n",
    "\t 1,2),\n",
    "aggregated_data as (\n",
    "select \n",
    "\tt.driver_operator_user_id::text,\n",
    "\tt.semaine,\n",
    "    min(t.incentives_sirets) as incentives_sirets,\n",
    "    min(t.incentives_naf_codes) as incentives_naf_codes,\n",
    "    min(t.cee_trip_datetime) as cee_trip_datetime,\n",
    "\tcount(tr.semaine)>0 had_trip\n",
    "from\n",
    "\t\"template\" t\n",
    "left join trips tr on\n",
    "\tt.driver_operator_user_id = tr.driver_operator_user_id\n",
    "\tand t.semaine = tr.semaine\n",
    "group by\n",
    "\t1,2)\n",
    "\n",
    "select \n",
    "\t*,\n",
    "\trow_number() over (partition by driver_operator_user_id order by semaine) as num_semaine\n",
    "from aggregated_data\n",
    "order by 1,2\n",
    "\"\"\",\n",
    "    connection=db_engine,)\n",
    "df_churn_by_driver"
   ]
  },
  {
   "cell_type": "code",
   "execution_count": null,
   "id": "0170096e-f4e6-4756-b38b-b6168f9d1a6c",
   "metadata": {},
   "outputs": [],
   "source": [
    "df_churn_by_driver = df_churn_by_driver.with_columns(\n",
    "    cohorte_cat_expr\n",
    ")"
   ]
  },
  {
   "cell_type": "code",
   "execution_count": null,
   "id": "a2f4170f-f989-4abb-a8a2-aefcc823518e",
   "metadata": {},
   "outputs": [],
   "source": [
    "df_churn_by_driver"
   ]
  },
  {
   "cell_type": "code",
   "execution_count": null,
   "id": "4f75b255-dafb-4b5e-8060-64064051f008",
   "metadata": {},
   "outputs": [],
   "source": [
    "def preprocess_week_by_driver_df(df: pl.DataFrame) -> pl.DataFrame:\n",
    "    df_week_by_cohorte = (\n",
    "        df.group_by([\"num_semaine\"])\n",
    "        .agg((100 * pl.col(\"had_trip\").sum() / df[\"driver_operator_user_id\"].n_unique()).alias(\"share\"))\n",
    "        .sort(\"num_semaine\")\n",
    "    )\n",
    "    return df_week_by_cohorte"
   ]
  },
  {
   "cell_type": "code",
   "execution_count": null,
   "id": "462e61bd-cd50-48e3-b517-f2184d7ffea0",
   "metadata": {},
   "outputs": [],
   "source": [
    "df_churn_by_driver[\"cohorte_cat\"].unique().to_list()"
   ]
  },
  {
   "cell_type": "code",
   "execution_count": null,
   "id": "c9f5c34d-0040-45bb-b4e1-98caac5ea6b0",
   "metadata": {},
   "outputs": [],
   "source": [
    "plot_configs = [\n",
    "    {\n",
    "        \"data\": preprocess_week_by_driver_df(df_churn_by_driver.filter(pl.col(\"cohorte_cat\") == \"CEE avec incitations Entreprise\")),\n",
    "        \"name\": \"CEE avec incitations Entreprise\",\n",
    "        \"color\": \"#d60036\",\n",
    "        \"line_dash\":\"solid\"\n",
    "    },\n",
    "    {\n",
    "        \"data\": preprocess_week_by_driver_df(\n",
    "            df_churn_by_driver.filter(pl.col(\"cohorte_cat\") == \"CEE avec incitations Collectivité OU Opérateur\")\n",
    "        ),\n",
    "        \"name\": \"CEE avec incitations Collectivité OU Opérateur\",\n",
    "        \"color\": \"#0057ba\",\n",
    "        \"line_dash\":\"solid\"\n",
    "    },\n",
    "    {\n",
    "        \"data\": preprocess_week_by_driver_df(\n",
    "            df_churn_by_driver.filter(pl.col(\"cohorte_cat\") == \"Incitations Entreprise\")\n",
    "        ),\n",
    "        \"name\": \"Incitations Entreprise\",\n",
    "        \"color\": \"#d60036\",\n",
    "        \"line_dash\":\"dash\"\n",
    "    },\n",
    "    {\n",
    "        \"data\": preprocess_week_by_driver_df(\n",
    "            df_churn_by_driver.filter(pl.col(\"cohorte_cat\") == \"Incitations Collectivité OU Opérateurs\")\n",
    "        ),\n",
    "        \"name\": \"Incitations Collectivité OU Opérateurs\",\n",
    "        \"color\": \"#0057ba\",\n",
    "        \"line_dash\":\"dash\"\n",
    "    },\n",
    "]\n",
    "traces = []\n",
    "for config in plot_configs:\n",
    "    data = config[\"data\"]\n",
    "    trace = go.Scatter(\n",
    "        x=data[\"num_semaine\"],\n",
    "        y=data[\"share\"],\n",
    "        marker_color=config[\"color\"],\n",
    "        hovertemplate=\"%{y:.2f}% des conducteurs ont été actifs %{x} semaine(s)\",\n",
    "        name=config[\"name\"],\n",
    "        visible=config.get(\"visible\", True),\n",
    "        line_dash=config[\"line_dash\"]\n",
    "    )\n",
    "    traces.append(trace)\n",
    "\n",
    "fig_weeks_by_driver_multi = go.Figure(traces)\n",
    "fig_weeks_by_driver_multi.update_layout(\n",
    "    plot_bgcolor=\"white\",\n",
    "    title=\"Courbes d'attrition des conducteurs<br>Quel cohorte a réussi à retenir les conducteurs le plus longtemps ?\",\n",
    "    hovermode=\"x unified\",\n",
    ")\n",
    "fig_weeks_by_driver_multi.update_yaxes(\n",
    "    showgrid=True,\n",
    "    griddash=\"dot\",\n",
    "    gridwidth=1,\n",
    "    gridcolor=\"gray\",\n",
    "    title=\"Part des conducteurs (%)\",\n",
    "    zeroline=True,\n",
    "    zerolinecolor=\"black\",\n",
    ")\n",
    "fig_weeks_by_driver_multi.update_xaxes(\n",
    "    title=\"Numéro de la semaine\",\n",
    "    range=[0, 12],\n",
    "    dtick=1,\n",
    "    tickprefix=\"Semaine \",\n",
    "    showtickprefix=\"none\",\n",
    ")\n",
    "\n",
    "fig_weeks_by_driver_multi.show()\n",
    "fig_weeks_by_driver_multi.write_html(OUTPUT_PATH / \"churn_by_incentives_cohortes.html\")\n",
    "fig_weeks_by_driver_multi.write_image(\n",
    "    OUTPUT_PATH / \"num_semaines_multichurn_by_incentives_cohortes.svg\", format=\"svg\", width=1920, height=1080\n",
    ")"
   ]
  },
  {
   "cell_type": "code",
   "execution_count": null,
   "id": "9a23d01e-db77-4f7d-ba05-5a1699d427cb",
   "metadata": {},
   "outputs": [],
   "source": []
  }
 ],
 "metadata": {
  "kernelspec": {
   "display_name": "Python [conda env:analytics311]",
   "language": "python",
   "name": "conda-env-analytics311-py"
  },
  "language_info": {
   "codemirror_mode": {
    "name": "ipython",
    "version": 3
   },
   "file_extension": ".py",
   "mimetype": "text/x-python",
   "name": "python",
   "nbconvert_exporter": "python",
   "pygments_lexer": "ipython3",
   "version": "3.11.9"
  }
 },
 "nbformat": 4,
 "nbformat_minor": 5
}
