{
 "cells": [
  {
   "cell_type": "code",
   "execution_count": null,
   "metadata": {},
   "outputs": [],
   "source": [
    "import os\n",
    "import pandas as pd\n",
    "from sqlalchemy import create_engine, text\n",
    "import sqlalchemy as sa\n",
    "import warnings\n",
    "from sqlalchemy.dialects.postgresql import insert\n",
    "\n",
    "from helpers.apply_metods import add_overlap_columns\n",
    "from datetime import timedelta\n",
    "from datetime import datetime\n",
    "\n",
    "# Input params checks\n",
    "connection_string = os.environ['PG_CONNECTION_STRING']\n",
    "delay = os.environ['DELAY']\n",
    "frame = os.environ['FRAME']\n",
    "update_carpool_status = os.environ['UPDATE_CARPOOL_STATUS'] == \"true\" or False\n",
    "\n",
    "start_date_frame = datetime.now() - timedelta(hours=int(delay)) - timedelta(hours=int(frame))\n",
    "end_date_frame = datetime.now() - timedelta(hours=int(frame))\n",
    "print(f\"processing carpools between {start_date_frame} and {end_date_frame} \")"
   ]
  },
  {
   "cell_type": "code",
   "execution_count": null,
   "metadata": {},
   "outputs": [],
   "source": [
    "engine = create_engine(connection_string, connect_args={'sslmode':'require'})\n",
    "\n",
    "query = f\"\"\"\n",
    "SELECT\n",
    "  _ID,\n",
    "  OPERATOR_ID,\n",
    "  START_DATETIME as datetime,\n",
    "  EXTRACT(\n",
    "    EPOCH\n",
    "    FROM\n",
    "      (END_DATETIME - START_DATETIME)\n",
    "  )::INT AS DURATION,\n",
    "  OPERATOR_JOURNEY_ID,\n",
    "  OPERATOR_TRIP_ID,\n",
    "  PASSENGER_IDENTITY_KEY as identity_key,\n",
    "  PASSENGER_OPERATOR_USER_ID as operator_user_id,\n",
    "   CASE\n",
    "    WHEN PASSENGER_PHONE_TRUNC IS NULL THEN LEFT(PASSENGER_PHONE, -2)\n",
    "    ELSE PASSENGER_PHONE_TRUNC\n",
    "  END AS PHONE_TRUNC,\n",
    "  START_POSITION,\n",
    "  END_POSITION\n",
    "  FROM\n",
    "  CARPOOL_V2.CARPOOLS where \n",
    "    START_DATETIME >= NOW() - '{delay} hours'::INTERVAL - '{frame} hours'::INTERVAL\n",
    "  AND START_DATETIME < NOW() - '{delay} hours'::INTERVAL\n",
    "\"\"\"\n",
    "\n",
    "with engine.connect() as conn:\n",
    "    df_carpool = pd.read_sql_query(text(query), conn)\n"
   ]
  },
  {
   "cell_type": "code",
   "execution_count": null,
   "metadata": {},
   "outputs": [],
   "source": [
    "df_carpool['overlap_group'] = 100\n",
    "df_carpool['overlap_duration'] = 0.00\n",
    "df_carpool['overlap_duration_ratio'] = 1.00\n",
    "grouped_tmp = df_carpool.groupby(['identity_key'],group_keys=False)\n",
    "\n",
    "df_only_grouped_with_overlap_group_filled = grouped_tmp.apply(lambda df: add_overlap_columns(df)).reset_index(drop=True)"
   ]
  },
  {
   "cell_type": "code",
   "execution_count": null,
   "metadata": {},
   "outputs": [],
   "source": [
    "overlap_duration_high_mask = df_only_grouped_with_overlap_group_filled['overlap_duration_ratio'] > 0.7\n",
    "\n",
    "df_high_overlap = df_only_grouped_with_overlap_group_filled[overlap_duration_high_mask]"
   ]
  },
  {
   "cell_type": "code",
   "execution_count": null,
   "metadata": {},
   "outputs": [],
   "source": [
    "grouped_tmp = df_high_overlap.groupby(['identity_key', 'overlap_group', 'operator_id'], group_keys=False)\n",
    "df_final_result = grouped_tmp.filter(lambda x:  x['overlap_group'].count() > 1)"
   ]
  },
  {
   "cell_type": "code",
   "execution_count": null,
   "metadata": {},
   "outputs": [],
   "source": [
    "grouped_tmp = df_final_result.groupby(['identity_key', 'overlap_group', 'operator_id'], group_keys=False)\n",
    "df_row_to_keep = grouped_tmp.nth(0).reset_index(drop=False)\n",
    "\n",
    "df_row_to_flag = df_final_result[~df_final_result._id.isin(df_row_to_keep['_id'])]\n",
    "\n",
    "def add_conflicting_carpool_id(row): \n",
    "    # recherche de la row carpool flaguée à partir du carpool_id\n",
    "    df_row_to_flag_mask = df_row_to_flag['_id'] == row['carpool_id']\n",
    "    df_carpool_row_flaged = df_row_to_flag[df_row_to_flag_mask]\n",
    "    conflicting_carpool_mask = (df_row_to_keep['identity_key'] == df_carpool_row_flaged['identity_key'].iloc[0]) & (df_row_to_keep['overlap_group'] == df_carpool_row_flaged['overlap_group'].iloc[0])\n",
    "    row['conflicting_carpool_id'] = df_row_to_keep[conflicting_carpool_mask].iloc[0]._id\n",
    "    row['conflicting_operator_journey_id'] = df_row_to_keep[conflicting_carpool_mask].iloc[0].operator_journey_id\n",
    "    return row\n",
    "\n",
    "df_labels = pd.DataFrame(df_row_to_flag[['_id', 'overlap_duration_ratio', 'operator_journey_id']])\n",
    "df_labels.columns = ['carpool_id', 'overlap_duration_ratio', 'operator_journey_id']\n",
    "df_labels = df_labels.assign(label='temporal_overlap_anomaly')\n",
    "df_labels = df_labels.apply(lambda x: add_conflicting_carpool_id(x), axis=1)"
   ]
  },
  {
   "cell_type": "code",
   "execution_count": null,
   "metadata": {},
   "outputs": [],
   "source": [
    "warnings.filterwarnings(\"ignore\")\n",
    "\n",
    "if update_carpool_status is True:\n",
    "\n",
    "    metadata = sa.MetaData(schema='carpool_v2')\n",
    "    metadata.reflect(bind=engine)\n",
    "\n",
    "    table = metadata.tables['carpool_v2.status']\n",
    "    \n",
    "    where_clause = table.c.carpool_id.in_(df_row_to_flag['_id'].to_list())\n",
    "\n",
    "    update_stmt = sa.update(table).where(where_clause).values(anomaly_status='failed')\n",
    "\n",
    "    with engine.connect() as conn:\n",
    "       result = conn.execute(update_stmt)\n",
    "       print(f\"{result.rowcount} carpools status updated to anomaly_status=failed\")\n",
    "       conn.commit()"
   ]
  },
  {
   "cell_type": "code",
   "execution_count": null,
   "metadata": {},
   "outputs": [],
   "source": [
    "def insert_or_do_nothing_on_conflict(table, conn, keys, data_iter):\n",
    "    insert_stmt = insert(table.table).values(list(data_iter))\n",
    "    on_duplicate_key_stmt = insert_stmt.on_conflict_do_nothing(index_elements=['carpool_id', 'label'])\n",
    "    conn.execute(on_duplicate_key_stmt)\n",
    "\n",
    "df_labels.to_sql(\n",
    "    name=\"labels\",\n",
    "    schema=\"anomaly\",\n",
    "    con=engine,\n",
    "    if_exists=\"append\",\n",
    "    index=False,\n",
    "    method=insert_or_do_nothing_on_conflict\n",
    ")"
   ]
  },
  {
   "cell_type": "code",
   "execution_count": null,
   "metadata": {},
   "outputs": [],
   "source": [
    "# update pending carpool to passed, no anomaly triggered on them\n",
    "engine = create_engine(connection_string, connect_args={'sslmode':'require'})\n",
    "\n",
    "query = f\"\"\"\n",
    "        SELECT c2s._id\n",
    "        FROM carpool_v2.status c2s\n",
    "        JOIN carpool_v2.carpools c2c\n",
    "        ON c2c._id = c2s.carpool_id\n",
    "        WHERE c2c.start_datetime < NOW() - '{delay} hours'::INTERVAL - '{frame} hours'::INTERVAL\n",
    "        AND c2s.anomaly_status = 'pending'\n",
    "\"\"\"\n",
    "\n",
    "with engine.connect() as conn:\n",
    "    df_still_pending_carpools = pd.read_sql_query(text(query), conn)"
   ]
  },
  {
   "cell_type": "code",
   "execution_count": null,
   "metadata": {},
   "outputs": [],
   "source": [
    "if update_carpool_status is True:\n",
    "\n",
    "    metadata = sa.MetaData(schema='carpool_v2')\n",
    "    metadata.reflect(bind=engine)\n",
    "\n",
    "    table = metadata.tables['carpool_v2.status']\n",
    "    \n",
    "    where_clause = table.c._id.in_(df_still_pending_carpools['_id'].to_list())\n",
    "\n",
    "    update_stmt = sa.update(table).where(where_clause).values(anomaly_status='passed')\n",
    "\n",
    "    with engine.connect() as conn:\n",
    "        result = conn.execute(update_stmt)\n",
    "        print(f\"{result.rowcount} carpools status updated to anomaly_status=passed after {int(delay) + int(frame)} hours because no anomaly were found\")\n",
    "        conn.commit()"
   ]
  }
 ],
 "metadata": {
  "kernelspec": {
   "display_name": ".venv",
   "language": "python",
   "name": "python3"
  },
  "language_info": {
   "codemirror_mode": {
    "name": "ipython",
    "version": 3
   },
   "file_extension": ".py",
   "mimetype": "text/x-python",
   "name": "python",
   "nbconvert_exporter": "python",
   "pygments_lexer": "ipython3",
   "version": "3.10.12"
  }
 },
 "nbformat": 4,
 "nbformat_minor": 2
}
