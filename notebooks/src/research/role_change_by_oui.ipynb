{
 "cells": [
  {
   "cell_type": "code",
   "execution_count": null,
   "metadata": {},
   "outputs": [],
   "source": [
    "import os\n",
    "import pandas as pd\n",
    "from sqlalchemy import create_engine, text\n",
    "\n",
    "connection_string = os.environ['PG_CONNECTION_STRING']\n",
    "\n",
    "engine = create_engine(connection_string, connect_args={'sslmode':'require'})\n",
    "\n",
    "query = f\"\"\"SELECT\n",
    "    CC._ID,\n",
    "  CC.DATETIME,\n",
    "  CC.OPERATOR_TRIP_ID,\n",
    "  CC.OPERATOR_JOURNEY_ID,\n",
    "  CC.OPERATOR_ID,\n",
    "  CC.IS_DRIVER,\n",
    "  CI.OPERATOR_USER_ID\n",
    "FROM\n",
    "  CARPOOL.CARPOOLS CC\n",
    "  JOIN CARPOOL.IDENTITIES CI ON CC.IDENTITY_ID=CI._ID\n",
    "  LEFT JOIN GEO.PERIMETERS GPS\n",
    "   ON CC.START_GEO_CODE = GPS.ARR\n",
    "   AND GPS.YEAR = 2023\n",
    "  LEFT JOIN GEO.PERIMETERS GPE\n",
    "    ON CC.END_GEO_CODE = GPE.ARR\n",
    "   AND GPE.YEAR = 2023\n",
    "   WHERE (GPS.AOM = '287500078' OR GPE.AOM = '287500078' OR GPE.AOM = '217500016' OR GPS.AOM = '217500016') and cc.status = 'ok'\n",
    "  ORDER BY cc.DATETIME DESC\n",
    "LIMIT\n",
    "  300000;\n",
    "\"\"\"\n",
    "\n",
    "with engine.connect() as conn:\n",
    "    df_carpool = pd.read_sql_query(text(query), conn)"
   ]
  },
  {
   "cell_type": "code",
   "execution_count": null,
   "metadata": {},
   "outputs": [],
   "source": [
    "df_carpool['day_month'] = df_carpool['datetime'].astype(str).str[:10]"
   ]
  },
  {
   "cell_type": "code",
   "execution_count": null,
   "metadata": {},
   "outputs": [],
   "source": [
    "def filter_func(x):\n",
    "    return x\n",
    "\n",
    "df_carpool_with_agg = df_carpool.groupby(['day_month', 'operator_user_id']).agg({\n",
    "    'operator_journey_id': ['count', list],\n",
    "    'is_driver': [list, lambda x: x.nunique(), 'count'],\n",
    "})"
   ]
  },
  {
   "cell_type": "code",
   "execution_count": null,
   "metadata": {},
   "outputs": [],
   "source": [
    "df_carpool_filtered = df_carpool_with_agg[(df_carpool_with_agg['operator_journey_id']['count'] > 1) \n",
    "                                          & (df_carpool_with_agg['is_driver']['<lambda_0>'] > 1)\n",
    "                                          & (df_carpool_with_agg['is_driver']['count'] > 2)]\n",
    "\n"
   ]
  },
  {
   "cell_type": "code",
   "execution_count": null,
   "metadata": {},
   "outputs": [],
   "source": [
    "df_carpool_filtered"
   ]
  }
 ],
 "metadata": {
  "kernelspec": {
   "display_name": ".venv",
   "language": "python",
   "name": "python3"
  },
  "language_info": {
   "codemirror_mode": {
    "name": "ipython",
    "version": 3
   },
   "file_extension": ".py",
   "mimetype": "text/x-python",
   "name": "python",
   "nbconvert_exporter": "python",
   "pygments_lexer": "ipython3",
   "version": "3.10.12"
  }
 },
 "nbformat": 4,
 "nbformat_minor": 2
}
